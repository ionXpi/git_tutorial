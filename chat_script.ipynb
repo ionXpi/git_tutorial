from pyspark.sql import SparkSession
from pyspark.sql.functions import *
from pyspark.sql.window import Window
from pyspark.sql.types import *

# =========================================================
# 局所補完（位置挿入）版
# ・各 selection 出現位置ごとに直前 proposal / 直前 support を探索
# ・不足なら「その位置の直前」に挿入（ただしオプションで“先頭”に集約可）
# ・挿入要素は fractional position（例: sel_pos-0.5）を付けて union → sort → 配列再生成
# =========================================================

def complement_with_local_insertion(
    chat_df: DataFrame,
    scenario_master_df: DataFrame,
    *,
    SUPPORT_DEFAULT: str = "S006",
    HEAD_INSERT_FOR_MISSING_PROPOSAL: bool = True
) -> DataFrame:
    spark = chat_df.sql_ctx.sparkSession

    # ---------- 基本の展開 ----------
    expl = chat_df.select(
        "*",
        posexplode("routing_select").alias("position", "scenario_id")
    ).join(broadcast(scenario_master_df), "scenario_id", "left")

    # 各種フィルタビュー
    sel = expl.filter(col("route") == "選択") \
              .select("utterance_id","user_id","utterance_start_time","position") \
              .withColumnRenamed("position","sel_pos")

    prop = expl.filter(col("route") == "提案") \
               .select("utterance_id","user_id","utterance_start_time","position") \
               .withColumnRenamed("position","prop_pos")

    supp = expl.filter(col("route") == "サポート") \
               .select("utterance_id","user_id","utterance_start_time","position","scenario_id") \
               .withColumnRenamed("position","supp_pos")

    # ---------- 直前発話サポート（ユーザー単位の lag ） ----------
    user_win = Window.partitionBy("user_id").orderBy("utterance_start_time")

    # 各発話の「最後のサポート（最大位置）」を取得
    last_supp_ranked = supp.withColumn(
        "rn",
        row_number().over(
            Window.partitionBy("utterance_id","user_id","utterance_start_time")
                  .orderBy(desc("supp_pos"))
        )
    )
    last_supp_per_utt = last_supp_ranked.filter(col("rn")==1).select(
        "utterance_id","user_id","utterance_start_time",
        col("scenario_id").alias("last_support_scenario")
    )
    # この発話の直前発話が持っていた「最後のサポート」を引き継ぐ
    prev_support_per_utt = last_supp_per_utt.select(
        "utterance_id","user_id","utterance_start_time",
        lag("last_support_scenario",1).over(user_win).alias("prev_utterance_support")
    )

    # ---------- 「最初の提案より前の最後のサポート」（参考：優先度の第2候補） ----------
    # first_proposal_pos（最初の提案位置）
    first_prop_pos = prop.groupBy("utterance_id","user_id","utterance_start_time") \
                         .agg(min("prop_pos").alias("first_prop_pos"))
    # 提案より前のサポートのみ
    supp_before_first_prop = supp.join(
        first_prop_pos, ["utterance_id","user_id","utterance_start_time"], "left"
    ).filter(col("first_prop_pos").isNotNull() & (col("supp_pos") < col("first_prop_pos")))
    # その中で最も提案に近いサポート（supp_pos 最大）
    spbp_rank = supp_before_first_prop.withColumn(
        "rn",
        row_number().over(
            Window.partitionBy("utterance_id","user_id","utterance_start_time")
                  .orderBy(desc("supp_pos"))
        )
    )
    support_before_first_proposal = spbp_rank.filter(col("rn")==1).select(
        "utterance_id","user_id","utterance_start_time",
        col("scenario_id").alias("support_before_first_proposal")
    )

    # ---------- 各 selection ごとに「直前の proposal」位置を特定 ----------
    # 同一発話で prop_pos < sel_pos の proposal を join → max(prop_pos)
    sel_prop_join = sel.join(
        prop,
        on=["utterance_id","user_id","utterance_start_time"],
        how="left"
    ).filter(col("prop_pos").isNull() | (col("prop_pos") < col("sel_pos")))

    last_prop_before_sel = sel_prop_join.groupBy(
        "utterance_id","user_id","utterance_start_time","sel_pos"
    ).agg(max("prop_pos").alias("ref_prop_pos"))

    # （提案が全くない発話）にも行が必要なので、sel との left join で埋め戻す
    per_selection = sel.join(
        last_prop_before_sel,
        ["utterance_id","user_id","utterance_start_time","sel_pos"],
        "left"
    )

    # ---------- 各 selection の「直前の support（ref_prop_pos の直前）」を特定 ----------
    # ref_prop_pos がある selection について、supp_pos < ref_prop_pos の中で最大の supp
    sel_ref_supp = per_selection.join(
        supp, ["utterance_id","user_id","utterance_start_time"], "left"
    ).filter(
        col("ref_prop_pos").isNotNull() & col("supp_pos").isNotNull() & (col("supp_pos") < col("ref_prop_pos"))
    )

    last_supp_before_refprop = sel_ref_supp.groupBy(
        "utterance_id","user_id","utterance_start_time","sel_pos","ref_prop_pos"
    ).agg(
        max(struct(col("supp_pos"), col("scenario_id"))).alias("max_supp_struct")
    ).select(
        "utterance_id","user_id","utterance_start_time","sel_pos","ref_prop_pos",
        col("max_supp_struct.supp_pos").alias("ref_supp_pos"),
        col("max_supp_struct.scenario_id").alias("ref_supp_id")
    )

    per_selection = per_selection.join(
        last_supp_before_refprop,
        ["utterance_id","user_id","utterance_start_time","sel_pos"],
        "left"
    )

    # ---------- この発話単位で使う「サポートID」優先順位を決定（直前発話 > 提案直前 > デフォルト） ----------
    per_utt_support_pref = chat_df.select("utterance_id","user_id","utterance_start_time").distinct() \
        .join(prev_support_per_utt, ["utterance_id","user_id","utterance_start_time"], "left") \
        .join(support_before_first_proposal, ["utterance_id","user_id","utterance_start_time"], "left") \
        .withColumn(
            "selected_support_id",
            coalesce(col("prev_utterance_support"), col("support_before_first_proposal"), lit(SUPPORT_DEFAULT))
        )

    per_selection = per_selection.join(per_utt_support_pref, ["utterance_id","user_id","utterance_start_time"], "left")

    # ---------- 各 selection の不足判定 ----------
    # A) 直前 proposal が無い → 提案を挿入（位置は sel_pos の直前 or 先頭）
    need_prop_insert = per_selection.withColumn(
        "need_prop_insert", col("ref_prop_pos").isNull()
    )

    # B) 直前 proposal はあるが、その直前 support が無い → support を挿入
    need_supp_insert = per_selection.withColumn(
        "need_supp_insert", col("ref_prop_pos").isNotNull() & col("ref_supp_pos").isNull()
    )

    # ---------- 挿入位置（浮動小数の synthetic_position） ----------
    # 提案S001の挿入位置
    prop_insert_candidates = need_prop_insert.filter(col("need_prop_insert")).select(
        "utterance_id","user_id","utterance_start_time","sel_pos"
    ).withColumn(
        "insert_pos",
        when(lit(HEAD_INSERT_FOR_MISSING_PROPOSAL), lit(-1.0))  # 先頭に集約
        .otherwise(col("sel_pos") - lit(0.5))                   # sel の直前に局所挿入
    ).withColumn("scenario_id", lit("S001")) \
     .withColumn("insert_kind", lit("proposal"))

    # サポートの挿入位置：
    #  - ref_prop_pos がある場合：その直前（ref_prop_pos - 0.5）
    #  - ref_prop_pos が無い（＝提案を挿入する発話）の場合：
    #       HEAD_INSERT=True なら 「先頭提案のさらに前」(-1.5) に集約
    #       False なら 「sel_pos の提案挿入位置のさらに前」（sel_pos-1.0）
    supp_insert_candidates = need_supp_insert.filter(col("need_supp_insert")).select(
        "utterance_id","user_id","utterance_start_time","sel_pos","ref_prop_pos","selected_support_id"
    ).withColumn(
        "insert_pos",
        when(col("ref_prop_pos").isNotNull(), col("ref_prop_pos") - lit(0.5))
        .otherwise(
            when(lit(HEAD_INSERT_FOR_MISSING_PROPOSAL), lit(-1.5)).otherwise(col("sel_pos") - lit(1.0))
        )
    ).withColumnRenamed("selected_support_id","scenario_id") \
     .withColumn("insert_kind", lit("support"))

    # 直前 proposal が無い selection に対しても、サポートを入れる必要がある（常に「提案の直前」に置きたい）
    # → need_prop_insert の selection にも support 追加（重複候補は後で dedup）
    supp_for_prop_missing = need_prop_insert.filter(col("need_prop_insert")).select(
        "utterance_id","user_id","utterance_start_time","sel_pos","selected_support_id"
    ).withColumn(
        "insert_pos",
        when(lit(HEAD_INSERT_FOR_MISSING_PROPOSAL), lit(-1.5)).otherwise(col("sel_pos") - lit(1.0))
    ).withColumnRenamed("selected_support_id","scenario_id") \
     .withColumn("insert_kind", lit("support"))

    # すべての挿入候補を統合
    planned_inserts = prop_insert_candidates.unionByName(supp_insert_candidates, allowMissingColumns=True) \
                                            .unionByName(supp_for_prop_missing, allowMissingColumns=True)

    # 同一発話で「同じ insert_pos / insert_kind / scenario_id」が重複し得るので dedup
    planned_inserts = planned_inserts.dropDuplicates([
        "utterance_id","user_id","utterance_start_time","insert_pos","insert_kind","scenario_id"
    ])

    # ---------- 元要素と挿入要素を結合 → 並び替え → 配列再構成 ----------
    original_elems = expl.select(
        "utterance_id","user_id","utterance_start_time",
        col("position").cast("double").alias("ord_pos"),
        col("scenario_id"),
        col("route")
    ).withColumn("insert_kind", lit("original"))

    insert_elems = planned_inserts.select(
        "utterance_id","user_id","utterance_start_time",
        col("insert_pos").alias("ord_pos"),
        "scenario_id",
        when(col("insert_kind")=="proposal", lit("提案"))
        .when(col("insert_kind")=="support", lit("サポート"))
        .otherwise(lit("挿入")).alias("route"),
    ).withColumn("insert_kind", col("insert_kind"))

    merged = original_elems.unionByName(insert_elems, allowMissingColumns=True)

    # 安定ソート：ord_pos 昇順、同一位置は support -> proposal -> original の順で先に来るよう第2キー
    order_key = when(col("insert_kind")=="support", lit(0)) \
                .when(col("insert_kind")=="proposal", lit(1)) \
                .otherwise(lit(2))

    merged = merged.withColumn("order_key", order_key)

    # 発話単位で position/order_key で並べ、シナリオ配列を再構築
    collected = merged.groupBy("utterance_id","user_id","utterance_start_time") \
        .agg(
            array_sort(
                collect_list(
                    struct(col("ord_pos"), col("order_key"), col("scenario_id"))
                )
            ).alias("ordered_structs")
        )

    result = collected.withColumn(
        "complemented_routing_select",
        expr("transform(ordered_structs, x -> x.scenario_id)")
    ).drop("ordered_structs")

    # 付加情報（可観測性のため）：挿入の有無、挿入数など
    inserts_per_utt = planned_inserts.groupBy("utterance_id","user_id","utterance_start_time") \
        .agg(
            count(when(col("insert_kind")=="proposal", True)).alias("num_inserted_proposals"),
            count(when(col("insert_kind")=="support", True)).alias("num_inserted_supports")
        )

    # 元の routing_select / 判定用の最小位置 等もくっつけて返す
    base_flags = expl.groupBy("utterance_id","user_id","utterance_start_time") \
        .agg(
            collect_list("scenario_id").alias("_flat_ids"),
            min(when(col("route")=="提案", col("position"))).alias("proposal_min_pos"),
            min(when(col("route")=="選択", col("position"))).alias("selection_min_pos"),
            min(when(col("route")=="サポート", col("position"))).alias("support_min_pos"),
            max(when(col("route")=="提案", 1).otherwise(0)).alias("has_proposal"),
            max(when(col("route")=="選択", 1).otherwise(0)).alias("has_selection"),
            max(when(col("route")=="サポート", 1).otherwise(0)).alias("has_support")
        )

    out = chat_df.join(result, ["utterance_id","user_id","utterance_start_time"], "left") \
                 .join(inserts_per_utt, ["utterance_id","user_id","utterance_start_time"], "left") \
                 .join(base_flags, ["utterance_id","user_id","utterance_start_time"], "left") \
                 .withColumn("num_inserted_proposals", coalesce(col("num_inserted_proposals"), lit(0))) \
                 .withColumn("num_inserted_supports", coalesce(col("num_inserted_supports"), lit(0))) \
                 .withColumn("is_complemented", (col("num_inserted_proposals") + col("num_inserted_supports")) > 0) \
                 .select(
                     "utterance_id","user_id","routing_select","complemented_routing_select",
                     "is_complemented", "num_inserted_proposals", "num_inserted_supports",
                     "has_support","has_proposal","has_selection",
                     "support_min_pos","proposal_min_pos","selection_min_pos"
                 )

    return out


# ----------------------------
# テスト用の最小データ作成
# ----------------------------
def create_test_data():
    spark = SparkSession.builder.appName("LocalInsertionDemo").getOrCreate()

    chat_data = [
        # 選択が先頭、途中に S001 もある：先頭提案 or 選択直前提案の追加 + 直前サポートも（prevでS007想定）
        ("UTT_015","USER_A",["S002","S006","S001","S003"], "2025-08-24 16:30:00"),

        # 直前発話で S007 を最後のサポートにしておく（USER_A）
        ("UTT_014","USER_A",["S010","S006","S007","S001","S002"], "2025-08-24 16:00:00"),

        # 複数 selection：片方は提案前、片方は提案後
        ("UTT_021","USER_A",["S006","S002","S001","S003","S004"], "2025-08-24 17:00:00"),

        # 提案がなく、サポートだけ複数：各 selection の直前に proposal/support（または先頭に集約）
        ("UTT_022","USER_B",["S006","S007","S002","S003"], "2025-08-24 10:00:00"),

        # 提案はあるがサポートが全て後方：proposal 直前に support を入れる
        ("UTT_023","USER_B",["S001","S002","S006"], "2025-08-24 10:30:00"),
    ]

    schema = StructType([
        StructField("utterance_id", StringType(), True),
        StructField("user_id", StringType(), True),
        StructField("routing_select", ArrayType(StringType()), True),
        StructField("utterance_start_time", StringType(), True),
    ])

    chat_df = spark.createDataFrame(chat_data, schema) \
        .withColumn("utterance_start_time", to_timestamp("utterance_start_time", "yyyy-MM-dd HH:mm:ss"))

    # シナリオマスター
    scenario_data = [
        ("S001","提案"),
        ("S002","選択"),("S003","選択"),("S004","選択"),
        ("S006","サポート"),("S007","サポート"),("S008","サポート"),("S009","サポート"),("S010","サポート"),
    ]
    scenario_schema = StructType([
        StructField("scenario_id", StringType(), True),
        StructField("route", StringType(), True),
    ])
    scenario_df = spark.createDataFrame(scenario_data, scenario_schema)

    return chat_df, scenario_df


# ----------------------------
# 実行例
# ----------------------------
if __name__ == "__main__":
    spark = SparkSession.builder.getOrCreate()

    chat_df, scenario_df = create_test_data()

    # 仕様：提案が無い selection は「先頭に S001（＆その直前に support）」を1回だけ追加して満たす
    result = complement_with_local_insertion(
        chat_df, scenario_df,
        SUPPORT_DEFAULT="S006",
        HEAD_INSERT_FOR_MISSING_PROPOSAL=True   # ← False にすると各 selection 直前に挿入
    )

    result.orderBy("user_id","utterance_start_time").show(truncate=False)
